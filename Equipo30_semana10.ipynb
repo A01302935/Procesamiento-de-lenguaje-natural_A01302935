{
  "nbformat": 4,
  "nbformat_minor": 0,
  "metadata": {
    "colab": {
      "provenance": []
    },
    "kernelspec": {
      "name": "python3",
      "display_name": "Python 3"
    },
    "language_info": {
      "name": "python"
    }
  },
  "cells": [
    {
      "cell_type": "markdown",
      "metadata": {
        "id": "GqANHchfMxGc"
      },
      "source": [
        "# **Maestría en Inteligencia Artificial Aplicada**\n",
        "\n",
        "## Curso: **Procesamiento de Lenguaje Natural**\n",
        "\n",
        "### Tecnológico de Monterrey\n",
        "\n",
        "### Prof Luis Eduardo Falcón Morales\n",
        "\n",
        "## Actividad Semana 10\n",
        "\n",
        "### **Modelos LLM y IA en tu trabajo**"
      ]
    },
    {
      "cell_type": "markdown",
      "metadata": {
        "id": "0ancuT33MxGd"
      },
      "source": [
        "#### **Nombres y matrículas de los integrantes del equipo:**\n",
        "\n",
        "*   David Mireles Samaniego A01302935\n",
        "*   Andrea Fernanda Molina Blandón A00827133\n",
        "*   Brandon Vladimir Montoya López A01209115\n",
        "*   Erik Morales Hinojosa A01795110\n",
        "*   Domenico Morales Ortiz A00820324"
      ]
    },
    {
      "cell_type": "markdown",
      "metadata": {
        "id": "CVVO-F8AMxGd"
      },
      "source": [
        "## Pregunta 1\n",
        "Seleccionar un modelo de gran tamaño LLM (chatGPT, Gemini, Llama, Claude, etc.). Indicar el modelo y versión utilizado."
      ]
    },
    {
      "cell_type": "markdown",
      "source": [
        "Se usará el modelo de Anthropic, Claude, en su versión gratis web, siendo la versión Claude 3.5 Sonnet debido a su superioridad en la tarea de lluvia de ideas, creatividad y entendimiento.<sup>1</sup>\n",
        "\n",
        "1. https://tech.co/news/chatgpt-vs-claude-3"
      ],
      "metadata": {
        "id": "aQ7KrejlV6kq"
      }
    },
    {
      "cell_type": "markdown",
      "metadata": {
        "id": "zGCVLKtGMxGe"
      },
      "source": [
        "## Pregunta 2\n",
        "Dentro de los diferentes proyectos o actividades que desarrollan los integrantes de un equipo en su lugar de trabajo, seleccionar dos temáticas diferentes. Para cada proyecto/actividad, incluir al menos los siguientes puntos:\n",
        "\n",
        "- Indicar información de la empresa y su principal giro comercial.\n",
        "- Indicar el área o departamento a la cual pertenece el proyecto/actividad seleccionada.\n",
        "- Describir claramente en qué consiste cada una de estas actividades.\n",
        "- Indicar con qué otras áreas de la empresa te relacionas o interactúas generalmente."
      ]
    },
    {
      "cell_type": "markdown",
      "source": [
        "**Temática 1:**\n",
        "- Amazon es una empresa multinacional de tecnología y comercio electrónico. Su giro comercial principal incluye: venta minorista, servicio de computación en la nuve, dispositivos electrónicos, streaming entre otros.\n",
        "- Dentro del área de comercio en línea se encuentra el departamento de Marketplace, vendedores externos que venden dentro de la plataforma de Amazon.\n",
        "- El integrante tiene el rol de PM de Selección en marketplace. Ahí se dedican a definir y crear la inteligencia necesaria para entender el negocio creando soluciones que van desde reclutamiento de productos, benchmark contra competidores, entendimiendo del cliente, áreas de oportunidad.  \n",
        "- La posición se relaciona directamente con los áreas de ventas,comerciales, distribución logística, operaciones, R&D, BI entre otras.\n",
        "\n",
        "**Temática 2:**\n",
        "- Octopus MX es una agencia de marketing digital, la cual se enfoca principalmente en posicionamiento en motores de búsqueda y generación de contenido. Además ofrece los servicios de publicidad paga por click, diseño web e inteligencia de negocios. Su cartera de clientes abarca la industria e-commerce b2c/b2b, hotelera, médica, real estate, entre otros.\n",
        "- El departamento encargado de la inteligencia de negocios se llama Data Strategy. Este se divide en los siguientes servicios: análisis de datos, visualización de datos y gestión de tags y trackeo.\n",
        "- El rol del integrante es de analista de datos y trabaja principalmente con Google Analytics 4 para detectar áreas de oportunidad que se presenten en el sitio web enfocadas ya sea en generación de leads o venta de productos conforme se van trabajando las estrategias de marketing. Para tener una mayor campo de visibilidad, también utiliza Looker Studio para generar reportes y unir los datos de distintas plataformas como lo sería Shopify, HubSpot, Google Ads, entre otras.\n",
        "- Este puesto tiene relación directa con los departamentos operativos relacionados a los servicios ofrecidos por la agencia. Necesita tener una comunicación fuerte con cada uno para monitorear sus resultados y compartir descubrimientos en base a los datos obtenidos."
      ],
      "metadata": {
        "id": "ocYHunWmXKH4"
      }
    },
    {
      "cell_type": "markdown",
      "metadata": {
        "id": "GWANaUw0MxGf"
      },
      "source": [
        "## Pregunta 3\n",
        "Usar la técnica de ingeniería de instrucciones (prompt engineering) con el LLM seleccionado para obtener ideas de cómo aplicar la Inteligencia Artificial en tu trabajo diario.\n",
        "\n",
        "El objetivo es obtener una primera guía sobre cómo encontrar, no solamente áreas de oportunidad de la IA en las empresas, sino también una descripción detallada de los pasos que debes seguir para llevar a cabo dicha tarea.\n",
        "\n",
        "No dudes en hacer todas las preguntas que creas necesarias para obtener y mejorar la información que vas obteniendo. El objetivo no es llevar a cabo la implementación de las ideas, sino tomar esta actividad como una lluvia de ideas aunque algo detalladas de qué tipo de proyectos y cómo llevarlos a cabo dentro de tu trabajo, que te ayuden en el futuro empezar a implementar alguna de ellas."
      ]
    },
    {
      "cell_type": "markdown",
      "source": [
        "### **Respuesta generada para la Temática 1:**\n",
        "\n",
        "1. **Optimización de la selección de productos:**\n",
        "\n",
        "   La IA puede analizar grandes volúmenes de datos de ventas, búsquedas de usuarios, tendencias de redes sociales y datos económicos para predecir qué productos serán populares en el futuro cercano. Esto le ayudaría a guiar a los vendedores hacia categorías y productos con mayor potencial de éxito.\n",
        "\n",
        "   Ejemplo práctico: Un algoritmo podría identificar que, basado en tendencias recientes y datos históricos, los productos de jardinería urbana tendrán un auge en los próximos meses. Usted podría usar esta información para incentivar a los vendedores a aumentar su inventario en esta categoría.\n",
        "\n",
        "2. **Mejora de la calidad del catálogo:**\n",
        "\n",
        "   Los sistemas de IA pueden revisar automáticamente las descripciones de productos, detectando errores ortográficos, información inconsistente o descripciones poco claras. También pueden analizar las imágenes de los productos para asegurar que cumplen con los estándares de calidad de Amazon.\n",
        "\n",
        "   Ejemplo práctico: Un sistema de IA podría escanear las descripciones de productos y señalar aquellas que son demasiado cortas, contienen errores gramaticales o carecen de información crucial. Esto le permitiría priorizar qué listados necesitan atención inmediata.\n",
        "\n",
        "3. **Análisis predictivo de vendedores:**\n",
        "\n",
        "   La IA puede analizar el comportamiento de los vendedores (volumen de ventas, calidad de servicio, frecuencia de actualización de inventario, etc.) para identificar patrones que indiquen potencial de crecimiento o riesgo de abandono.\n",
        "\n",
        "   Ejemplo práctico: Un modelo de IA podría identificar vendedores que muestran signos de éxito temprano (como un rápido aumento en las ventas o excelentes calificaciones de clientes) pero que aún no han expandido su catálogo. Usted podría enfocarse en estos vendedores para ofrecerles apoyo adicional y animarlos a crecer en la plataforma.\n",
        "\n",
        "4. **Personalización de la experiencia del vendedor:**\n",
        "   Utilizando aprendizaje automático, se puede personalizar la interfaz y las recomendaciones para cada vendedor basándose en su historial, categoría de productos, volumen de ventas, etc.\n",
        "\n",
        "   Ejemplo práctico: Para un nuevo vendedor de electrónicos, el sistema podría priorizar mostrar tutoriales sobre cómo listar eficazmente productos tecnológicos, mientras que para un vendedor experimentado de moda, podría destacar herramientas avanzadas de gestión de inventario y pronóstico de tendencias.\n",
        "\n",
        "**Flujo de trabajo ejemplo:**\n",
        "\n",
        "1. **Recopilación de datos:**\n",
        "   - El sistema de IA recolecta diariamente datos de:\n",
        "     - Ventas en Amazon Marketplace México\n",
        "     - Búsquedas de usuarios\n",
        "     - Tendencias en redes sociales\n",
        "     - Datos económicos relevantes\n",
        "     - Estacionalidad y eventos próximos\n",
        "\n",
        "2. **Análisis y predicción:**\n",
        "   - El modelo de IA procesa estos datos y genera:\n",
        "     - Predicciones de categorías de productos con potencial de crecimiento\n",
        "     - Productos específicos que podrían tener alta demanda\n",
        "     - Estimaciones de volumen de ventas para diferentes categorías\n",
        "\n",
        "3. **Generación de informes:**\n",
        "   - Cada mañana, recibe un informe automático con:\n",
        "     - Top 10 categorías con mayor potencial de crecimiento\n",
        "     - Top 50 productos específicos recomendados para impulsar\n",
        "     - Análisis de gaps en el catálogo actual vs. demanda prevista\n",
        "\n",
        "4. **Revisión y planificación:**\n",
        "   - Dedica 30-60 minutos a revisar el informe\n",
        "   - Identifica oportunidades clave y áreas de enfoque\n",
        "\n",
        "5. **Comunicación con vendedores:**\n",
        "   - Utiliza una herramienta de segmentación impulsada por IA para:\n",
        "     - Identificar vendedores adecuados para cada oportunidad\n",
        "     - Generar comunicaciones personalizadas\n",
        "\n",
        "6. **Seguimiento y ajuste:**\n",
        "   - Implementa las recomendaciones a través de:\n",
        "     - Correos electrónicos automatizados a vendedores\n",
        "     - Actualizaciones en el portal de vendedores\n",
        "     - Llamadas directas para oportunidades de alto valor\n",
        "   - Monitorea la adopción y resultados\n",
        "\n",
        "7. **Retroalimentación al sistema:**\n",
        "   - Registra qué recomendaciones fueron implementadas\n",
        "   - Proporciona feedback sobre la precisión de las predicciones\n",
        "   - El sistema de IA utiliza esta información para mejorar futuras predicciones\n",
        "\n",
        "8. **Análisis de resultados:**\n",
        "   - Semanalmente, revisa el impacto de las acciones tomadas\n",
        "   - Compara el rendimiento real con las predicciones\n",
        "   - Identifica áreas de mejora en el proceso\n",
        "\n",
        "9. **Iteración y mejora continua:**\n",
        "   - Mensualmente, reúnase con el equipo de datos para:\n",
        "     - Discutir el rendimiento del sistema\n",
        "     - Proponer ajustes al modelo de IA\n",
        "     - Planificar nuevas características o fuentes de datos"
      ],
      "metadata": {
        "id": "OWIzGhubZMVW"
      }
    },
    {
      "cell_type": "markdown",
      "source": [
        "### **Respuesta generada para la Temática 2:**\n",
        "\n",
        "Para implementar la inteligencia artificial en el área de un analista de datos en una agencia de marketing, se pueden considerar varias estrategias que pueden mejorar la eficiencia, precisión y capacidad de generar insights valiosos.\n",
        "\n",
        "**Automatización de Gestión de Tags y Trackeo.**\n",
        "\n",
        "1. **Automatización de Implementación de Tags:**\n",
        "\n",
        "  API de GTM: Utiliza la API de GTM para automatizar la creación, actualización y despliegue de tags, triggers y variables.\n",
        "\n",
        "  Scripts Personalizados: Desarrolla scripts personalizados en JavaScript para automatizar la configuración de tags. Estos scripts pueden ser reutilizados y adaptados para diferentes proyectos.\n",
        "\n",
        "2. **Validación y Monitoreo de Tags:**\n",
        "\n",
        "  Automatización de Validación: Implementa scripts automatizados que validen los tags en diferentes páginas del sitio web y generen informes sobre posibles errores o inconsistencias.\n",
        "\n",
        "  Herramientas de Monitoreo: Utiliza herramientas como Tag Assistant y DataLayer Inspector para verificar la correcta implementación y funcionamiento de los tags.\n",
        "\n",
        "3. **Monitoreo Continuo y Alertas:**\n",
        "\n",
        "  Monitoreo en Tiempo Real: Configura sistemas de monitoreo en tiempo real para detectar rápidamente cualquier problema con los tags.\n",
        "\n",
        "  Alertas Automatizadas: Implementa alertas automatizadas que notifiquen al equipo cuando se detecte un problema, permitiendo una respuesta rápida y eficiente.\n",
        "\n",
        "**Análisis Predictivo de Resultados.**\n",
        "\n",
        "1. **Modelado Predictivo:**\n",
        "\n",
        "  Selección del Modelo: Elige algoritmos de machine learning apropiados como regresión lineal, árboles de decisión, Random Forest, y redes neuronales.\n",
        "\n",
        "  Entrenamiento del Modelo: Divide los datos en conjuntos de entrenamiento y prueba. Entrena el modelo utilizando técnicas como validación cruzada para asegurar su robustez.\n",
        "\n",
        "  Evaluación del Modelo: Utiliza métricas como RMSE (Root Mean Squared Error) para modelos de regresión y AUC-ROC (Area Under the Receiver Operating Characteristic Curve) para modelos de clasificación para evaluar el desempeño del modelo.\n",
        "\n",
        "2. **Implementación del Modelo:**\n",
        "\n",
        "  Integración en el Sistema: Implementa el modelo en un entorno de producción, integrándolo con las plataformas utilizadas (por ejemplo, Shopify para predicción de ventas, HubSpot para predicción de leads).\n",
        "\n",
        "  Automatización: Utiliza pipelines de datos automatizados para asegurar que el modelo se actualice con nuevos datos de forma regular.\n",
        "\n",
        "3. **Monitoreo y Mantenimiento:**\n",
        "\n",
        "  Monitoreo Continuo: Establece métricas de monitoreo para asegurarse de que el modelo sigue siendo preciso y relevante.\n",
        "\n",
        "  Reentrenamiento del Modelo: Programa reentrenamientos periódicos del modelo para incorporar nuevos datos y ajustar el modelo según sea necesario.\n",
        "\n",
        "**Análisis de Funnel de Conversión**\n",
        "\n",
        "1. **A/B Testing:**\n",
        "\n",
        "  Desarrollo de Hipótesis: Plantea hipótesis sobre los cambios que se esperan probar en el funnel de conversión. Por ejemplo, \"Cambiar el color del botón de compra aumentará la tasa de conversión\".\n",
        "\n",
        "  Configuración del Experimento: Se crean dos versiones de la página: la versión A (control) que es la versión actual sin cambios, y la versión B (variación) que incluye el cambio propuesto. Los visitantes del sitio web se dividen aleatoriamente en dos grupos. Un grupo verá la versión A y el otro grupo verá la versión B.\n",
        "\n",
        "2. **Modelado Predictivo para Optimización de Conversiones:**\n",
        "\n",
        "  Pruebas de Hipótesis: Utiliza técnicas de machine learning para predecir el impacto de los cambios en la tasa de conversión.\n",
        "\n",
        "  Modelado Predictivo: Utiliza algoritmos de machine learning (como regresión logística, árboles de decisión, Random Forest) para predecir qué cambios pueden tener un mayor impacto en la reducción de la tasa de abandono.\n",
        "\n"
      ],
      "metadata": {
        "id": "zTjBWIXaXq4A"
      }
    },
    {
      "cell_type": "markdown",
      "metadata": {
        "id": "z1VPXzkHMxGf"
      },
      "source": [
        "## Pregunta 4\n",
        "Incluye tus conclusiones finales de la actividad.\n",
        "\n",
        "Las plataformas que disponen los LLMs, como ChatGPT, ClaudeAI, Gemini Studio, entre otras, han sido una herramienta invaluable en el desarrollo de esta actividad facilitando la implementación de inteligencia artificial, específicamente NLP, en diversos contextos.\n",
        "\n",
        "Al solicitar explicaciones claras y específicas aunando ejemplos prácticos con el uso de *prompts*, permite una comprensión profunda de cómo integrar y utilizar técnicas de IA para mejorar la eficiencia y precisión en diferentes áreas. Por ejemplo como el campo de la salud, la educación, el comercio electrónico y más.\n",
        "\n",
        "Sin embargo, el éxito de su integración depende de una implementación cuidadosa que se adapte a los flujos de trabajo existentes y se refine continuamente basándose en los resultados obtenidos. Finalmente, la adopción estratégica de la IA puede proporcionar una ventaja competitiva sustancial en el dinámico y competitivo mundo actual donde los datos son clave y el recurso base, dando pauta a que las empresas mejoren tanto operacionalmente como en la calidad del servicio que se desea brindar."
      ]
    }
  ]
}